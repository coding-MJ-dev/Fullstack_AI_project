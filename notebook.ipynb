{
 "cells": [
  {
   "cell_type": "code",
   "execution_count": 42,
   "metadata": {},
   "outputs": [
    {
     "data": {
      "text/plain": [
       "{'history': [SystemMessage(content='On Maverick: Maverick is in Topgun. Maverick has a rival named Iceman.')]}"
      ]
     },
     "execution_count": 42,
     "metadata": {},
     "output_type": "execute_result"
    }
   ],
   "source": [
    "from langchain.memory import ConversationKGMemory\n",
    "from langchain.chat_models import ChatOpenAI\n",
    "\n",
    "llm = ChatOpenAI(temperature=0.1)\n",
    "\n",
    "memory = ConversationKGMemory(\n",
    "    llm=llm,\n",
    "    return_messages=True,\n",
    ")\n",
    "\n",
    "\n",
    "def add_message(input, output):\n",
    "    memory.save_context({\"input\": input}, {\"output\": output})\n",
    "\n",
    "\n",
    "add_message(\n",
    "    \"Hi I'm Maverick, I'm in Topgun. My rival is Iceman\", \"Wow, that is so cool!\"\n",
    ")\n",
    "add_message(\"Do you have anything to ask?\", \"yes, how's Iceman doing?\")\n",
    "add_message(\n",
    "    \"I don't know. I thought that we are friend but we fought yesterday again, yesterday.\",\n",
    "    \"I thought that we are getting better, what happened?\",\n",
    ")\n",
    "add_message(\n",
    "    \"Same as usual, I thought that we became a friend but...\",\n",
    "    \"Look, Iceman is comming!\",\n",
    ")\n",
    "add_message(\n",
    "    \"Oh, shit! What should I do.\",\n",
    "    \"Say something! You told me he is your friend and also a wingman.\",\n",
    ")\n",
    "memory.load_memory_variables({\"input\": \"What is Maverick's relationship with Iceman?\"})"
   ]
  },
  {
   "cell_type": "code",
   "execution_count": null,
   "metadata": {},
   "outputs": [],
   "source": [
    "add_message(\n",
    "    \"Oh, shit. What should I do. Oh, hi, Iceman, you look good today.\",\n",
    "    \"Say something!\",\n",
    ")\n",
    "\n",
    "get_history()"
   ]
  }
 ],
 "metadata": {
  "kernelspec": {
   "display_name": "env",
   "language": "python",
   "name": "python3"
  },
  "language_info": {
   "codemirror_mode": {
    "name": "ipython",
    "version": 3
   },
   "file_extension": ".py",
   "mimetype": "text/x-python",
   "name": "python",
   "nbconvert_exporter": "python",
   "pygments_lexer": "ipython3",
   "version": "3.11.6"
  }
 },
 "nbformat": 4,
 "nbformat_minor": 2
}
