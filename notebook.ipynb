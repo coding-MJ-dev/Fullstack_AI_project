{
 "cells": [
  {
   "cell_type": "code",
   "execution_count": 4,
   "metadata": {},
   "outputs": [
    {
     "data": {
      "text/plain": [
       "'The distance between Australia and the USA varies depending on the specific locations being compared. On average, the distance between the east coast of Australia (such as Sydney) and the west coast of the USA (such as Los Angeles) is approximately 7,800 miles (12,550 kilometers) when measured as the crow flies. However, the actual distance can be longer or shorter depending on the specific cities being compared and the route taken.'"
      ]
     },
     "execution_count": 4,
     "metadata": {},
     "output_type": "execute_result"
    }
   ],
   "source": [
    "from langchain.chat_models import ChatOpenAI\n",
    "from langchain.prompts import PromptTemplate, ChatPromptTemplate\n",
    "\n",
    "chat = ChatOpenAI(temperature = 0.1)\n",
    "\n",
    "template = PromptTemplate.from_template(\"what is the distance between {country_a} and {country_b}.\")\n",
    "prompt = template.format(country_a=\"Australia\", country_b=\"USA\")\n",
    "\n",
    "chat.predict(prompt)\n"
   ]
  },
  {
   "cell_type": "code",
   "execution_count": 6,
   "metadata": {},
   "outputs": [
    {
     "data": {
      "text/plain": [
       "AIMessage(content='멜버른과 MIT 사이의 거리는 약 16,000km입니다. 제 이름은 이순신입니다.')"
      ]
     },
     "execution_count": 6,
     "metadata": {},
     "output_type": "execute_result"
    }
   ],
   "source": [
    "template = ChatPromptTemplate.from_messages([\n",
    "    (\"system\", \"You are geography expert. And you only reply in {language}\"),\n",
    "    (\"ai\", \"안녕, 나는 {name}이라고 해.\"),\n",
    "    (\"human\", \"what is the distance between {country_a} and {country_b}. Also, what is your name?\")\n",
    "])\n",
    "\n",
    "prompt = template.format_messages(\n",
    "    language=\"Korean\",\n",
    "    name=\"이순신\",\n",
    "    country_a=\"Melbourne\",\n",
    "    country_b=\"MIT\",\n",
    ")\n",
    "\n",
    "chat.predict_messages(prompt)"
   ]
  }
 ],
 "metadata": {
  "kernelspec": {
   "display_name": "env",
   "language": "python",
   "name": "python3"
  },
  "language_info": {
   "codemirror_mode": {
    "name": "ipython",
    "version": 3
   },
   "file_extension": ".py",
   "mimetype": "text/x-python",
   "name": "python",
   "nbconvert_exporter": "python",
   "pygments_lexer": "ipython3",
   "version": "3.11.6"
  }
 },
 "nbformat": 4,
 "nbformat_minor": 2
}
