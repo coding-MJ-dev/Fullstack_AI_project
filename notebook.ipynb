{
 "cells": [
  {
   "cell_type": "code",
   "execution_count": 18,
   "metadata": {},
   "outputs": [
    {
     "data": {
      "text/plain": [
       "{'history': [HumanMessage(content=\"Hi I'm Maverick, I'm in Topgun\"),\n",
       "  AIMessage(content='Wow, that is so cool!')]}"
      ]
     },
     "execution_count": 18,
     "metadata": {},
     "output_type": "execute_result"
    }
   ],
   "source": [
    "from langchain.memory import ConversationSummaryBufferMemory\n",
    "from langchain.chat_models import ChatOpenAI\n",
    "\n",
    "llm = ChatOpenAI(temperature=0.1)\n",
    "\n",
    "memory = ConversationSummaryBufferMemory(\n",
    "    llm=llm,\n",
    "    max_token_limit=60,\n",
    "    return_messages=True,\n",
    ")\n",
    "\n",
    "\n",
    "def add_message(input, output):\n",
    "    memory.save_context({\"input\": input}, {\"output\": output})\n",
    "\n",
    "\n",
    "def get_history():\n",
    "    return memory.load_memory_variables({})\n",
    "\n",
    "\n",
    "add_message(\"Hi I'm Maverick, I'm in Topgun\", \"Wow, that is so cool!\")\n",
    "get_history()"
   ]
  },
  {
   "cell_type": "code",
   "execution_count": 19,
   "metadata": {},
   "outputs": [
    {
     "data": {
      "text/plain": [
       "{'history': [HumanMessage(content=\"Hi I'm Maverick, I'm in Topgun\"),\n",
       "  AIMessage(content='Wow, that is so cool!'),\n",
       "  HumanMessage(content='Do you have anything to ask?'),\n",
       "  AIMessage(content=\"yes, how's Iceman doing?\")]}"
      ]
     },
     "execution_count": 19,
     "metadata": {},
     "output_type": "execute_result"
    }
   ],
   "source": [
    "add_message(\"Do you have anything to ask?\", \"yes, how's Iceman doing?\")\n",
    "\n",
    "get_history()"
   ]
  },
  {
   "cell_type": "code",
   "execution_count": 20,
   "metadata": {},
   "outputs": [
    {
     "data": {
      "text/plain": [
       "{'history': [SystemMessage(content=\"The human introduces themselves as Maverick from Topgun. The AI expresses admiration for Maverick's role. Maverick asks if the AI has any questions.\"),\n",
       "  AIMessage(content=\"yes, how's Iceman doing?\"),\n",
       "  HumanMessage(content=\"I'm not sure,we fought yesterday again, yesterday.\"),\n",
       "  AIMessage(content='I thought that we are getting better, what happened?')]}"
      ]
     },
     "execution_count": 20,
     "metadata": {},
     "output_type": "execute_result"
    }
   ],
   "source": [
    "add_message(\n",
    "    \"I'm not sure,we fought yesterday again, yesterday.\",\n",
    "    \"I thought that we are getting better, what happened?\",\n",
    ")\n",
    "\n",
    "get_history()"
   ]
  },
  {
   "cell_type": "code",
   "execution_count": 22,
   "metadata": {},
   "outputs": [
    {
     "data": {
      "text/plain": [
       "{'history': [SystemMessage(content=\"The human introduces themselves as Maverick from Topgun. The AI expresses admiration for Maverick's role and asks about Iceman. Maverick mentions they fought with Iceman yesterday because they thought they had become friends but things went back to usual.\"),\n",
       "  AIMessage(content='Look, Iceman is comming!'),\n",
       "  HumanMessage(content='Same as usual, I thought that we became a friend but...'),\n",
       "  AIMessage(content='Look, Iceman is comming!')]}"
      ]
     },
     "execution_count": 22,
     "metadata": {},
     "output_type": "execute_result"
    }
   ],
   "source": [
    "add_message(\n",
    "    \"Same as usual, I thought that we became a friend but...\",\n",
    "    \"Look, Iceman is comming!\",\n",
    ")\n",
    "\n",
    "get_history()"
   ]
  },
  {
   "cell_type": "markdown",
   "metadata": {},
   "source": []
  },
  {
   "cell_type": "code",
   "execution_count": 23,
   "metadata": {},
   "outputs": [
    {
     "data": {
      "text/plain": [
       "{'history': [SystemMessage(content=\"The human introduces themselves as Maverick from Topgun. The AI expresses admiration for Maverick's role and asks about Iceman. Maverick mentions they fought with Iceman yesterday because they thought they had become friends but things went back to usual. The AI then warns Maverick that Iceman is coming.\"),\n",
       "  HumanMessage(content='Same as usual, I thought that we became a friend but...'),\n",
       "  AIMessage(content='Look, Iceman is comming!'),\n",
       "  HumanMessage(content='Oh, shit. What should I do.'),\n",
       "  AIMessage(content='Say something!')]}"
      ]
     },
     "execution_count": 23,
     "metadata": {},
     "output_type": "execute_result"
    }
   ],
   "source": [
    "add_message(\n",
    "    \"Oh, shit. What should I do.\",\n",
    "    \"Say something!\",\n",
    ")\n",
    "\n",
    "get_history()"
   ]
  }
 ],
 "metadata": {
  "kernelspec": {
   "display_name": "env",
   "language": "python",
   "name": "python3"
  },
  "language_info": {
   "codemirror_mode": {
    "name": "ipython",
    "version": 3
   },
   "file_extension": ".py",
   "mimetype": "text/x-python",
   "name": "python",
   "nbconvert_exporter": "python",
   "pygments_lexer": "ipython3",
   "version": "3.11.6"
  }
 },
 "nbformat": 4,
 "nbformat_minor": 2
}
