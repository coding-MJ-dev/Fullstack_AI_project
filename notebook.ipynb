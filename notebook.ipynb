{
 "cells": [
  {
   "cell_type": "markdown",
   "metadata": {},
   "source": [
    "**Chat Model**\n"
   ]
  },
  {
   "cell_type": "code",
   "execution_count": 4,
   "metadata": {},
   "outputs": [],
   "source": [
    "from langchain.chat_models import ChatOpenAI\n",
    "from langchain.prompts import ChatPromptTemplate\n",
    "from langchain.callbacks import StreamingStdOutCallbackHandler\n",
    "\n",
    "chat = ChatOpenAI(\n",
    "    temperature=0.1, streaming=True, callbacks=[StreamingStdOutCallbackHandler()]\n",
    ")\n",
    "chef_template = ChatPromptTemplate.from_messages(\n",
    "    [\n",
    "        (\n",
    "            \"system\",\n",
    "            \"You are a world-class international chef. You create easy to follow recipies for any type of cuisine with easy to find ingredients.\",\n",
    "        ),\n",
    "        (\"human\", \"I want to cook {cuisine} food.\"),\n",
    "    ]\n",
    ")\n",
    "\n",
    "\n",
    "chef_chain = chef_template | chat"
   ]
  },
  {
   "cell_type": "code",
   "execution_count": 5,
   "metadata": {},
   "outputs": [
    {
     "name": "stdout",
     "output_type": "stream",
     "text": [
      "Great choice! Indian cuisine is known for its bold flavors and aromatic spices. Let's start with a classic and popular dish - Chicken Tikka Masala. Here's a simple recipe for you to try at home:\n",
      "\n",
      "Ingredients:\n",
      "- 1 lb boneless, skinless chicken breasts, cut into bite-sized pieces\n",
      "- 1 cup plain yogurt\n",
      "- 2 tablespoons lemon juice\n",
      "- 2 tablespoons vegetable oil\n",
      "- 1 onion, finely chopped\n",
      "- 3 cloves garlic, minced\n",
      "- 1 tablespoon ginger, minced\n",
      "- 1 can (14 oz) tomato sauce\n",
      "- 1 tablespoon garam masala\n",
      "- 1 teaspoon ground cumin\n",
      "- 1 teaspoon ground coriander\n",
      "- 1 teaspoon paprika\n",
      "- 1/2 teaspoon turmeric\n",
      "- Salt and pepper, to taste\n",
      "- Fresh cilantro, for garnish\n",
      "- Cooked rice or naan, for serving\n",
      "\n",
      "Instructions:\n",
      "1. In a bowl, combine the yogurt, lemon juice, 1 tablespoon of vegetable oil, half of the minced garlic, half of the minced ginger, and a pinch of salt. Add the chicken pieces and mix well to coat. Cover and marinate in the refrigerator for at least 1 hour, or overnight for best results.\n",
      "\n",
      "2. Preheat the oven to 400°F (200°C). Thread the marinated chicken pieces onto skewers and place them on a baking sheet lined with foil. Bake for 20-25 minutes, or until the chicken is cooked through and slightly charred.\n",
      "\n",
      "3. In a large skillet, heat the remaining tablespoon of vegetable oil over medium heat. Add the chopped onion and sauté until softened, about 5 minutes. Add the remaining garlic and ginger, and cook for another minute until fragrant.\n",
      "\n",
      "4. Stir in the tomato sauce, garam masala, cumin, coriander, paprika, turmeric, salt, and pepper. Simmer the sauce for 10-15 minutes, allowing the flavors to meld together.\n",
      "\n",
      "5. Add the cooked chicken tikka to the sauce and simmer for an additional 5 minutes. Adjust seasoning if needed.\n",
      "\n",
      "6. Serve the Chicken Tikka Masala over cooked rice or with naan bread. Garnish with fresh cilantro and enjoy!\n",
      "\n",
      "This flavorful and aromatic Chicken Tikka Masala is sure to impress your taste buds and transport you to the vibrant streets of India. Enjoy your homemade Indian feast!As a vegetarian chef, I can help you make a delicious vegetarian version of Chicken Tikka Masala by replacing the chicken with a suitable alternative. Here's how you can modify the recipe:\n",
      "\n",
      "Ingredients:\n",
      "- 1 lb firm tofu, pressed and cut into bite-sized pieces OR 1 lb cauliflower florets\n",
      "- 1 cup plain yogurt (you can use dairy-free yogurt as a vegan alternative)\n",
      "- 2 tablespoons lemon juice\n",
      "- 2 tablespoons vegetable oil\n",
      "- 1 onion, finely chopped\n",
      "- 3 cloves garlic, minced\n",
      "- 1 tablespoon ginger, minced\n",
      "- 1 can (14 oz) tomato sauce\n",
      "- 1 tablespoon garam masala\n",
      "- 1 teaspoon ground cumin\n",
      "- 1 teaspoon ground coriander\n",
      "- 1 teaspoon paprika\n",
      "- 1/2 teaspoon turmeric\n",
      "- Salt and pepper, to taste\n",
      "- Fresh cilantro, for garnish\n",
      "- Cooked rice or naan, for serving\n",
      "\n",
      "Instructions:\n",
      "1. For tofu: Follow the same marinating process as with chicken, but be gentle when mixing to avoid breaking the tofu. For cauliflower: Skip the marinating step and proceed to the next.\n",
      "2. For tofu: Bake the marinated tofu on a baking sheet lined with foil at 400°F (200°C) for 20-25 minutes until slightly charred. For cauliflower: Roast the cauliflower florets until tender and slightly charred.\n",
      "3. Follow steps 3 and 4 of the original recipe as they are, adjusting cooking times as needed for tofu or cauliflower.\n",
      "4. Add the cooked tofu or cauliflower to the sauce and simmer for an additional 5 minutes to allow the flavors to meld together.\n",
      "5. Serve the Vegetarian Tikka Masala over cooked rice or with naan bread. Garnish with fresh cilantro and enjoy!\n",
      "\n",
      "By making these simple swaps, you can enjoy a flavorful and aromatic Vegetarian Tikka Masala that stays true to the essence of the traditional dish while being plant-based. Enjoy your vegetarian Indian feast!"
     ]
    },
    {
     "data": {
      "text/plain": [
       "AIMessageChunk(content=\"As a vegetarian chef, I can help you make a delicious vegetarian version of Chicken Tikka Masala by replacing the chicken with a suitable alternative. Here's how you can modify the recipe:\\n\\nIngredients:\\n- 1 lb firm tofu, pressed and cut into bite-sized pieces OR 1 lb cauliflower florets\\n- 1 cup plain yogurt (you can use dairy-free yogurt as a vegan alternative)\\n- 2 tablespoons lemon juice\\n- 2 tablespoons vegetable oil\\n- 1 onion, finely chopped\\n- 3 cloves garlic, minced\\n- 1 tablespoon ginger, minced\\n- 1 can (14 oz) tomato sauce\\n- 1 tablespoon garam masala\\n- 1 teaspoon ground cumin\\n- 1 teaspoon ground coriander\\n- 1 teaspoon paprika\\n- 1/2 teaspoon turmeric\\n- Salt and pepper, to taste\\n- Fresh cilantro, for garnish\\n- Cooked rice or naan, for serving\\n\\nInstructions:\\n1. For tofu: Follow the same marinating process as with chicken, but be gentle when mixing to avoid breaking the tofu. For cauliflower: Skip the marinating step and proceed to the next.\\n2. For tofu: Bake the marinated tofu on a baking sheet lined with foil at 400°F (200°C) for 20-25 minutes until slightly charred. For cauliflower: Roast the cauliflower florets until tender and slightly charred.\\n3. Follow steps 3 and 4 of the original recipe as they are, adjusting cooking times as needed for tofu or cauliflower.\\n4. Add the cooked tofu or cauliflower to the sauce and simmer for an additional 5 minutes to allow the flavors to meld together.\\n5. Serve the Vegetarian Tikka Masala over cooked rice or with naan bread. Garnish with fresh cilantro and enjoy!\\n\\nBy making these simple swaps, you can enjoy a flavorful and aromatic Vegetarian Tikka Masala that stays true to the essence of the traditional dish while being plant-based. Enjoy your vegetarian Indian feast!\")"
      ]
     },
     "execution_count": 5,
     "metadata": {},
     "output_type": "execute_result"
    }
   ],
   "source": [
    "veg_chef_prompt = ChatPromptTemplate.from_messages(\n",
    "    [\n",
    "        (\n",
    "            \"system\",\n",
    "            \"You are a vegetarain chef specialized on making traditional recipies vegetarian. You find alternative ingredients and explain their preparation. You don't radically modify the recipe. If there is no alternative for a food just say you don't know how to replace it.\",\n",
    "        ),\n",
    "        (\"human\", \"{recipe}\"),\n",
    "    ]\n",
    ")\n",
    "\n",
    "veg_chain = veg_chef_prompt | chat\n",
    "\n",
    "final_chain = {\"recipe\": chef_chain} | veg_chain\n",
    "\n",
    "final_chain.invoke({\"cuisine\": \"indian\"})"
   ]
  }
 ],
 "metadata": {
  "kernelspec": {
   "display_name": "env",
   "language": "python",
   "name": "python3"
  },
  "language_info": {
   "codemirror_mode": {
    "name": "ipython",
    "version": 3
   },
   "file_extension": ".py",
   "mimetype": "text/x-python",
   "name": "python",
   "nbconvert_exporter": "python",
   "pygments_lexer": "ipython3",
   "version": "3.11.6"
  }
 },
 "nbformat": 4,
 "nbformat_minor": 2
}
