{
 "cells": [
  {
   "cell_type": "code",
   "execution_count": 1,
   "metadata": {},
   "outputs": [],
   "source": [
    "import subprocess\n",
    "from pydub import AudioSegment\n",
    "\n",
    "\n",
    "\n",
    "def extract_audio_from_video(video_path, audio_path):\n",
    "\n",
    "    command = [\n",
    "\n",
    "        \"ffmpeg\",\n",
    "\n",
    "        \"-i\",\n",
    "\n",
    "        video_path,\n",
    "\n",
    "        \"-vn\",\n",
    "\n",
    "        audio_path,\n",
    "\n",
    "    ]\n",
    "\n",
    "    subprocess.run(command)\n",
    "\n",
    "\n",
    "track = AudioSegment.from_mp3(\"./files/DP_Longest_Common_Subsequence_Leetcode1143.mp3\")\n",
    "\n",
    "track.duration_seconds"
   ]
  }
 ],
 "metadata": {
  "kernelspec": {
   "display_name": "env",
   "language": "python",
   "name": "python3"
  },
  "language_info": {
   "codemirror_mode": {
    "name": "ipython",
    "version": 3
   },
   "file_extension": ".py",
   "mimetype": "text/x-python",
   "name": "python",
   "nbconvert_exporter": "python",
   "pygments_lexer": "ipython3",
   "version": "3.11.6"
  }
 },
 "nbformat": 4,
 "nbformat_minor": 2
}
