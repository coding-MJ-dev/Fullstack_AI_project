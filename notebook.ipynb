{
 "cells": [
  {
   "cell_type": "code",
   "execution_count": 3,
   "metadata": {},
   "outputs": [
    {
     "name": "stderr",
     "output_type": "stream",
     "text": [
      "Using pad_token, but it is not set yet.\n",
      "Setting `pad_token_id` to `eos_token_id`:50256 for open-end generation.\n"
     ]
    },
    {
     "data": {
      "text/plain": [
       "\" leaf or pulp or a kind of grain, such as corn or cotton.\\n\\nThere are 4 types of tomatoes:\\n\\n1,000 – 3,000 pounds,\\n\\ncommonly called 'Sage' as used in Thailand – it is very common on the ground in Thailand and as an important crop in South Asia, mostly used as the breading material for wheat, rye and barley. In Malaysia it is also common on the ground in Southeast Asia.\\n\\nThese common varieties are found on both sides of the river or sea or in waters about 10 minutes apart from both.\\n\\nAs many as 8,000 to 2,000 are commercially distributed and are the main food, but are also used as salad, soup or to\""
      ]
     },
     "execution_count": 3,
     "metadata": {},
     "output_type": "execute_result"
    }
   ],
   "source": [
    "from langchain.llms.huggingface_pipeline import HuggingFacePipeline\n",
    "from langchain.prompts import PromptTemplate\n",
    "\n",
    "prompt = PromptTemplate.from_template(\"A {word} is a\")\n",
    "\n",
    "llm = HuggingFacePipeline.from_model_id(\n",
    "    # If you wawt to try any model in the huggingFace\n",
    "    # Just change the model_id!\n",
    "    # It will download the model and you can use it\n",
    "    model_id=\"gpt2\",\n",
    "    task=\"text-generation\",\n",
    "    # device=0: using GPU,  device=-1:using cpu\n",
    "    # device=0\n",
    "    pipeline_kwargs={\"max_new_tokens\": 150},\n",
    ")\n",
    "\n",
    "\n",
    "chain = prompt | llm\n",
    "\n",
    "\n",
    "chain.invoke({\"word\": \"tomato\"})"
   ]
  }
 ],
 "metadata": {
  "kernelspec": {
   "display_name": "env",
   "language": "python",
   "name": "python3"
  },
  "language_info": {
   "codemirror_mode": {
    "name": "ipython",
    "version": 3
   },
   "file_extension": ".py",
   "mimetype": "text/x-python",
   "name": "python",
   "nbconvert_exporter": "python",
   "pygments_lexer": "ipython3",
   "version": "3.11.6"
  }
 },
 "nbformat": 4,
 "nbformat_minor": 2
}
